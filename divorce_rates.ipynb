{
 "cells": [
  {
   "cell_type": "markdown",
   "metadata": {
    "collapsed": true,
    "pycharm": {
     "name": "#%% md\n"
    }
   },
   "source": [
    "# Predicting Divorce Rates With Naive Bayes\n",
    "\n",
    "# TLDR: Answer some questions at the bottom of this post and see if you're getting divorced\n",
    "Yesterday was Valentine's Day and I'm not bitter or anything, but here's a quick post about predicting\n",
    "divorce rates based on a short panel of questions. Love is temporary, but data science is forever.\n",
    "\n",
    "This is a super random dataset that I just found on UC Irvine's Machine Learning data respository,\n",
    "so if it's weird that, for example, all the study participants are from the same region of Turkey, that's why.\n",
    "\n",
    "The data set is available [here](http://archive.ics.uci.edu/ml/datasets/Divorce+Predictors+data+set)\n",
    "\n",
    "The code for this project is available on my github [here](http://www.github.com/PSZehder/divorce_rates)\n",
    "\n",
    "## About the Data\n",
    "The data comes from this paper hosted [here](https://dergipark.org.tr/en/pub/nevsosbilen/issue/46568/549416)\n",
    "by Yötem et al. In their paper, they use a standard scale for Gottman couple's therapy called the Divorce Predictor Scale or DPS.\n",
    "The DPS is a set of 54 questions which subjects answer on a scale of 0 - 4. The questions include:\n",
    "\n",
    "The study has 170 participants, all heterosexual couples from the Black Sea region of Turkey, ages ranging from 20-64.\n",
    "The data is nice and clean and almost perfectly balanced between the classes (49% divorcees to 51% not divorced) which\n",
    "is really convenient. \n",
    "\n",
    "In their paper they use a fully connected network, and random binary forest. With \n",
    "the neural network they boast an accuracy of 97.6%, but that goes up to 98.8% with some feature selection. \n",
    "\n",
    "## Objective\n",
    "The goal for this blog post is to create a classifier for divorce rates based on this data and identify the most important\n",
    "predictors of divorce in Turkish couples from the Black Sea region ages 20-64. That way, if I ever meet a\n",
    "Turkish person from the Black Sea region (aged 20-64, of course) I can tell them how likely they are to divorce\n",
    "their significant other. \n",
    "\n",
    "Also, assuming the classifier works for non Turkish couples, I can help my friends predict the odds they break up with\n",
    "their loved ones. I'm not sure if that's good or bad.\n",
    "\n",
    "## First Impressions\n",
    "At face value this prediction task doesn't look to hard. The dataset is relatively small, but the feature space is also\n",
    "really small (only 54 features). It's also binary classification which is an easier task than multiclass, generally speaking.\n",
    "\n",
    "We should be able to overfit very easily, so as much as I love really deep learning, that's probably not the move here.\n",
    "(The other reason it's probably not the move is that my GPU is currently busy training a forthcoming project, stay tuned)\n",
    "In fact, as part of my New Year's resolution of diversifying my diet I won't even use PyTorch for this project.\n",
    "\n",
    "Something like Naive Bayes which is emperically well suited for small datasets should perform relatively well here.\n",
    "\n",
    "First off we can check to see if any of the predictors are correllated"
   ]
  },
  {
   "cell_type": "code",
   "execution_count": 107,
   "outputs": [
    {
     "data": {
      "text/plain": "<Figure size 432x288 with 2 Axes>",
      "image/png": "[encoded data removed]"
     },
     "metadata": {
      "needs_background": "light"
     },
     "output_type": "display_data"
    }
   ],
   "source": [
    "import seaborn as sns\n",
    "import matplotlib.pyplot as plt\n",
    "import pandas as pd\n",
    "\n",
    "data = pd.read_csv('data/divorce.csv', ';')\n",
    "corr = data.corr()\n",
    "\n",
    "ax = sns.heatmap(\n",
    "    corr,\n",
    "    vmin=0, vmax=1, center=0.5,\n",
    "    cmap=sns.diverging_palette(20, 220, n=200),\n",
    "    square=True\n",
    ")\n",
    "\n",
    "plt.axis('off')\n",
    "plt.show()"
   ],
   "metadata": {
    "collapsed": false,
    "pycharm": {
     "name": "#%%\n",
     "is_executing": false
    }
   }
  },
  {
   "cell_type": "markdown",
   "source": [
    "All of the features in the dataset have a positive correlation so the plot above has been normalized to the range $[0, 1]$.\n",
    "The red bands denote zero correlation between questions 6/7 and the other questions. Those questions are\n",
    "6. We don't have time at home as partners\n",
    "7. We are like two strangers who share the same environment at home rather than a family\n",
    "\n",
    "What we learn from this is even if you and your beloved rarely spend quality time together and ice each other out like\n",
    "strangers, there's no correllation with the other things going on in your relationship. So emperically speaking, fixing/\n",
    "worsening the parts of your relationship that pertain to the above questions\n",
    "shouldn't impact other areas of your relationship.\n",
    "\n",
    "(more importantly we see that the correllation is generally pretty low between predictors. This means the simple\n",
    "approach of \"throw all the predictors into a model\" should work okay since we won't be adding any redundant/spurious predictors)\n",
    "\n",
    "## Naive Bayes\n",
    "\n",
    "We can start with a Naive Bayes Classifier"
   ],
   "metadata": {
    "collapsed": false,
    "pycharm": {
     "name": "#%% md\n"
    }
   }
  },
  {
   "cell_type": "code",
   "execution_count": 139,
   "outputs": [
    {
     "name": "stdout",
     "text": [
      "Accuracy: 0.971\n"
     ],
     "output_type": "stream"
    },
    {
     "data": {
      "text/plain": "<sklearn.metrics._plot.confusion_matrix.ConfusionMatrixDisplay at 0x7fd1e5792cd0>"
     },
     "metadata": {},
     "output_type": "execute_result",
     "execution_count": 139
    },
    {
     "data": {
      "text/plain": "<Figure size 432x288 with 2 Axes>",
      "image/png": "[encoded data removed]"
     },
     "metadata": {
      "needs_background": "light"
     },
     "output_type": "display_data"
    }
   ],
   "source": [
    "import pandas as pd\n",
    "from sklearn.naive_bayes import MultinomialNB\n",
    "from sklearn.metrics import plot_confusion_matrix\n",
    "\n",
    "# load the data and shuffle into train/test split\n",
    "train_ratio = 0.8\n",
    "\n",
    "def multinb(train_ratio, data, feat_idx=None):\n",
    "    data = data.sample(frac=1)\n",
    "    train = data[:int(len(data) * train_ratio)]\n",
    "    test = data[int(len(data) * train_ratio):]\n",
    "    if feat_idx is None:\n",
    "        train = (train[['Class']].transpose().squeeze(0), train.drop(['Class'], axis=1, inplace=False))\n",
    "        test = (test[['Class']].transpose().squeeze(0), test.drop(['Class'], axis=1, inplace=False))\n",
    "    else:\n",
    "        train = (train[['Class']].transpose().squeeze(0), train.iloc[:, feat_idx]) \n",
    "        test = (test[['Class']].transpose().squeeze(0), test.iloc[:, feat_idx])\n",
    "    naive_bayes = MultinomialNB()\n",
    "    naive_bayes.fit(train[1], train[0])\n",
    "    return naive_bayes, train, test\n",
    "\n",
    "# split data and train classifier\n",
    "nbclassifier, train, test = multinb(train_ratio, data)\n",
    "\n",
    "# get results\n",
    "print('Accuracy: %.3f' % nbclassifier.score(test[1], test[0]))\n",
    "\n",
    "plot_confusion_matrix(nbclassifier, test[1], test[0])"
   ],
   "metadata": {
    "collapsed": false,
    "pycharm": {
     "name": "#%%\n",
     "is_executing": false
    }
   }
  },
  {
   "cell_type": "markdown",
   "source": [
    "In the code above, the `feat_idx` parameter lets us train a model with fewer features by specifying their indices.\n",
    "\n",
    "I noticed that the performance of the model is really dependent on the train test split which makes sense given the\n",
    "small dataset size. I also noticed that the performance of the model is pretty good even with small amounts of training data. So,\n",
    "just for fun, let's conduct a small study on the model with respect to the amount of data. We'll average the\n",
    "model performance across many different shufflings of the data into train/test and reduce the amount of data each time\n",
    "to see how the performance degrades with a smaller dataset. Intutitively, as the train set gets smaller, we should\n",
    "generalize to the test set more poorly."
   ],
   "metadata": {
    "collapsed": false,
    "pycharm": {
     "name": "#%% md\n"
    }
   }
  },
  {
   "cell_type": "code",
   "execution_count": 140,
   "outputs": [
    {
     "data": {
      "text/plain": "<Figure size 432x288 with 1 Axes>",
      "image/png": "[encoded data removed]"
     },
     "metadata": {
      "needs_background": "light"
     },
     "output_type": "display_data"
    },
    {
     "data": {
      "text/plain": "<Figure size 432x288 with 1 Axes>",
      "image/png": "[encoded data removed]"
     },
     "metadata": {
      "needs_background": "light"
     },
     "output_type": "display_data"
    }
   ],
   "source": [
    "import numpy as np\n",
    "\n",
    "n = 100 # number of samples to compute mean performance\n",
    "k = 10 # number of ratios to sample at, in 0.1s\n",
    "\n",
    "results = np.zeros((k - 1, n + 1))\n",
    "\n",
    "for j in range(k - 1):\n",
    "    ratio = (j + 1)/ 10\n",
    "    results[j][0] = ratio\n",
    "    for i in range(n):\n",
    "        classifier, _, test = multinb(ratio, data)\n",
    "        results[j][i + 1] = classifier.score(test[1], test[0])\n",
    "\n",
    "means = np.mean(results[:, 1:], axis=1)\n",
    "sd = np.std(results[:, 1:], axis=1)\n",
    "errors = pd.DataFrame([[-sd[i], sd[i]] for i in range(k - 1)])\n",
    "\n",
    "means = pd.DataFrame(means)\n",
    "\n",
    "results = pd.DataFrame(results)\n",
    "results.columns = ['ratio', *['trial%s' % s for s in range(n)]]\n",
    "ax1 = results.plot.bar(x='ratio')\n",
    "ax1.set_ylim(0.85, 1.01)\n",
    "ax1.get_legend().remove()\n",
    "\n",
    "ax2 = means.plot.bar(yerr=errors)\n",
    "ax2.set_ylim(0.85, 1.01)\n",
    "ax2.get_legend().remove()"
   ],
   "metadata": {
    "collapsed": false,
    "pycharm": {
     "name": "#%%\n",
     "is_executing": false
    }
   }
  },
  {
   "cell_type": "markdown",
   "source": [
    "We see that performance is better with a larger percentage of the data, but variance is higher at either high or low\n",
    "percentage of the data in the train set. We also see that the performance really doesn't vary too much, verifying that\n",
    "naive Bayes performs well even on very small datasets.\n",
    "\n",
    "We see that a 70/30 split has low variance, good accuracy, and aligns with common rules of thumb about splitting your\n",
    "dataset.\n",
    "\n",
    "With that in mind, we can train the classifier again using this train-test split and extract the most important features\n",
    "to the classification\n",
    "\n",
    "(The code for the most important features is based on\n",
    "[this stack exchange post](https://stackoverflow.com/questions/11116697/how-to-get-most-informative-features-for-scikit-learn-classifiers))"
   ],
   "metadata": {
    "collapsed": false,
    "pycharm": {
     "name": "#%% md\n",
     "is_executing": false
    }
   }
  },
  {
   "cell_type": "code",
   "execution_count": 141,
   "outputs": [
    {
     "name": "stdout",
     "text": [
      "Accuracy: 0.981\n",
      "Important Questions: \n",
      " 52. I wouldn't hesitate to tell my spouse about her/his inadequacy.\n",
      " 50. I'm not actually the one who's guilty about what I'm accused of.\n",
      " 49. I have nothing to do with what I've been accused of.\n",
      " 31. I feel aggressive when I argue with my spouse.\n",
      " 43. I mostly stay silent to calm the environment a little bit.\n",
      " 38. I hate my spouse's way of open a subject.\n",
      " 41. When I talk to my spouse about something, my calm suddenly breaks.\n",
      " 40. We're just starting a discussion before I know what's going on.\n",
      " 37. My discussion with my spouse is not calm.\n",
      " 39. Our discussions often occur suddenly.\n",
      "\n"
     ],
     "output_type": "stream"
    }
   ],
   "source": [
    "num_questions = 10\n",
    "\n",
    "# split data and train classifier\n",
    "nbclassifier, train, test = multinb(train_ratio=0.7, data=data)\n",
    "\n",
    "# get results\n",
    "print('Accuracy: %.3f' % nbclassifier.score(test[1], test[0]))\n",
    "\n",
    "def get_q(idx, mapping='data/questions.txt'):\n",
    "    with open(mapping, 'r') as mapfile:\n",
    "        mapping = [line for line in mapfile]\n",
    "    return mapping[idx]\n",
    "    \n",
    "def print_top_n(clf, n, mapping='data/questions.txt'): \n",
    "    topn = np.argsort(clf.coef_[0])[-n:]\n",
    "    print(\"%s: \\n %s\" % ('Important Questions', \" \".join(get_q(j, mapping) for j in topn)))\n",
    "    return topn\n",
    "\n",
    "# extract the most salient features\n",
    "topn_idx = print_top_n(nbclassifier, num_questions)"
   ],
   "metadata": {
    "collapsed": false,
    "pycharm": {
     "name": "#%%\n",
     "is_executing": false
    }
   }
  },
  {
   "cell_type": "markdown",
   "source": [
    "In honesty, these questions seem like a bunch of big red flags to me, so we've used data science to confirm the obvious:\n",
    "If you don't get a long with and are constantly hostile towards your significant other, you'll probably get divorced.\n",
    "\n",
    "Now, let's train a reduced classifier on just these 10 questions. Then you can input your own answers and predict how\n",
    "likely you are to get divorced! What fun!\n",
    "\n",
    "First, let's see how the smaller model performs on our data:"
   ],
   "metadata": {
    "collapsed": false,
    "pycharm": {
     "name": "#%% md\n",
     "is_executing": false
    }
   }
  },
  {
   "cell_type": "code",
   "execution_count": 145,
   "outputs": [
    {
     "name": "stdout",
     "text": [
      "Accuracy: 0.865\n"
     ],
     "output_type": "stream"
    },
    {
     "data": {
      "text/plain": "<sklearn.metrics._plot.confusion_matrix.ConfusionMatrixDisplay at 0x7fd1f47dc090>"
     },
     "metadata": {},
     "output_type": "execute_result",
     "execution_count": 145
    },
    {
     "data": {
      "text/plain": "<Figure size 432x288 with 2 Axes>",
      "image/png": "[encoded data removed]"
     },
     "metadata": {
      "needs_background": "light"
     },
     "output_type": "display_data"
    }
   ],
   "source": [
    "smallernb, train, test = multinb(train_ratio=0.7, data=data, feat_idx=topn_idx)\n",
    "# get results\n",
    "print('Accuracy: %.3f' % smallernb.score(test[1], test[0]))\n",
    "plot_confusion_matrix(smallernb, test[1], test[0])"
   ],
   "metadata": {
    "collapsed": false,
    "pycharm": {
     "name": "#%%\n",
     "is_executing": false
    }
   }
  },
  {
   "cell_type": "markdown",
   "source": [
    "We can see that the performance is not as good as the model with all the features, but it has 1/5 of the features. Even\n",
    "though the accuracy is much lower, this is still useful since we need to ask far fewer questions to render a prediction.\n",
    "\n",
    "From the confusion matrix we also see that this reduced model tends towards false positives over false negatives. So if\n",
    "you answer the questions below and aren't happy with your results, remember that the model tends to think people will\n",
    "get divorced more often than they actually do.\n",
    "\n",
    "With all this in mind, try out the classifier with your own responses/data (if you'd like)"
   ],
   "metadata": {
    "collapsed": false,
    "pycharm": {
     "name": "#%% md\n"
    }
   }
  },
  {
   "cell_type": "code",
   "execution_count": 157,
   "outputs": [
    {
     "name": "stdout",
     "text": [
      "Answer on a Scale of 1-5 (1 = Strongly Disagree, 5 = Strongly Agree)\n",
      "Prediction: DIVORCE with 0.92725 confidence\n"
     ],
     "output_type": "stream"
    }
   ],
   "source": [
    "from sklearn.preprocessing import normalize\n",
    "\n",
    "print('Answer on a Scale of 1-5 (1 = Strongly Disagree, 5 = Strongly Agree)')\n",
    "responses = []\n",
    "for i in topn_idx:\n",
    "    response = input(get_q(i))\n",
    "    if response is '':\n",
    "        response = 0\n",
    "    else:\n",
    "        response = int(response) - 1\n",
    "    responses.append(response)\n",
    "\n",
    "responses = np.array(responses)\n",
    "responses = np.expand_dims(responses, axis=0)\n",
    "\n",
    "result = smallernb.predict(responses)\n",
    "probab = normalize(smallernb.predict_proba(responses))\n",
    "\n",
    "def print_conclusion(result, probab):\n",
    "    result_msg = 'DIVORCE' if result[0] == 1 else 'NO DIVORCE'\n",
    "    likelihood = probab[0][result[0]]\n",
    "    print('Congratulations! We Predict: %s with %.5f\\% confidence' % (result_msg, likelihood))\n",
    "        \n",
    "print_conclusion(result, probab)"
   ],
   "metadata": {
    "collapsed": false,
    "pycharm": {
     "name": "#%%  <a id='prediction'></a>\n",
     "is_executing": false
    }
   }
  }
 ],
 "metadata": {
  "kernelspec": {
   "display_name": "Python 3",
   "language": "python",
   "name": "python3"
  },
  "language_info": {
   "codemirror_mode": {
    "name": "ipython",
    "version": 2
   },
   "file_extension": ".py",
   "mimetype": "text/x-python",
   "name": "python",
   "nbconvert_exporter": "python",
   "pygments_lexer": "ipython2",
   "version": "2.7.6"
  },
  "pycharm": {
   "stem_cell": {
    "cell_type": "raw",
    "source": [],
    "metadata": {
     "collapsed": false
    }
   }
  }
 },
 "nbformat": 4,
 "nbformat_minor": 0
}